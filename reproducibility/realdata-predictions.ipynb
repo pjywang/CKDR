{
 "cells": [
  {
   "cell_type": "markdown",
   "id": "2cc8c720",
   "metadata": {},
   "source": [
    "## Real data prediction performance \n",
    "Compared with log-ratio methods for comparison (using the same train/test split).  \n",
    "In each sample, zeros are replaced with $.5x_{\\min}$, half the minimum positive value.\n",
    "\n",
    "We also tested zero replacement by adding a pseudocount of 1, but this approach was overall inferior to $.5x_{\\min}$ replacement and is omitted."
   ]
  },
  {
   "cell_type": "code",
   "execution_count": 1,
   "id": "322a4d8f",
   "metadata": {},
   "outputs": [],
   "source": [
    "import os, sys\n",
    "os.chdir('..')\n",
    "sys.path.insert(0, os.path.abspath('..'))\n",
    "\n",
    "import numpy as np\n",
    "import pandas as pd\n",
    "import pickle\n",
    "\n",
    "import warnings\n",
    "warnings.simplefilter(action='ignore', category=FutureWarning)\n",
    "warnings.filterwarnings('ignore', message='Unable to determine R library path')\n",
    "\n",
    "MASTER_SEED = 20241225"
   ]
  },
  {
   "cell_type": "code",
   "execution_count": 2,
   "id": "1f7620e8",
   "metadata": {},
   "outputs": [],
   "source": [
    "directory = \"./datasets/MLRepo/\"\n",
    "x_dir = \"/refseq/taxatable.txt\"\n",
    "y_dir = \"/task-\"  \n",
    "y_names = {\"gevers\": \"ileum\", \"ravel\": \"nugent-score\"}"
   ]
  },
  {
   "cell_type": "markdown",
   "id": "7e42e638",
   "metadata": {},
   "source": [
    "# Ileum microbiome data (binary response)"
   ]
  },
  {
   "cell_type": "code",
   "execution_count": 3,
   "id": "727f7790",
   "metadata": {},
   "outputs": [
    {
     "name": "stdout",
     "output_type": "stream",
     "text": [
      "Zero ratio: 0.8241899852724595\n",
      "Data shape (140, 194)  with y = CD --- 78 // y = no --- 62\n"
     ]
    }
   ],
   "source": [
    "name = \"gevers\"\n",
    "counts = pd.read_csv(directory + name + x_dir, sep='\\t')\n",
    "y_ileum = pd.read_csv(directory + name + y_dir + y_names[name] + \".txt\", sep='\\t')\n",
    "\n",
    "counts2 = counts[y_ileum[\"#SampleID\"]]\n",
    "\n",
    "# Delete taxa present in less than 5 samples\n",
    "taxa = counts[\"#OTU ID\"][(counts2 > 0).sum(1) >= 5]\n",
    "counts2 = counts2[(counts2 > 0).sum(1) >= 5]\n",
    "\n",
    "x = counts2.to_numpy().T\n",
    "y = y_ileum[\"Var\"].to_numpy().flatten()\n",
    "\n",
    "# Normalize\n",
    "x = x / x.sum(1)[:, None]\n",
    "\n",
    "y_vals = sorted(set(y))\n",
    "print(\"Zero ratio:\", np.sum(x == 0) / x.size)\n",
    "print(\"Data shape\", x.shape, \" with y =\", y_vals[0], \"---\", np.sum(y==y_vals[0]), \"// y =\", y_vals[1], \"---\", np.sum(y==y_vals[1]))\n",
    "\n",
    "# Y processing (mandatory)\n",
    "y = np.array([-1. if y == y_vals[0] else 1. for y in y])"
   ]
  },
  {
   "cell_type": "code",
   "execution_count": 4,
   "id": "0da71712",
   "metadata": {},
   "outputs": [],
   "source": [
    "# Zero replacement and integer conversion of the response (for stratification)\n",
    "# This is necessary for clr-Kernel (SVM) and clr-RF\n",
    "x2 = counts2.T.to_numpy().astype(np.float64)\n",
    "y2 = y.astype(int)\n",
    "for i in range(x2.shape[0]):\n",
    "    x2[i] = np.where(x2[i] == 0, x2[i][x2[i] > 0].min() * 0.5, x2[i])"
   ]
  },
  {
   "cell_type": "code",
   "execution_count": 5,
   "id": "cbb54b5f",
   "metadata": {},
   "outputs": [],
   "source": [
    "results_df = pd.DataFrame(columns=[\"CKDR-3\", \"CKDR-5\", \"CKDR\", \"LC-Lasso\", \"clr-Kernel (SVM)\", \"clr-RF\"])"
   ]
  },
  {
   "cell_type": "markdown",
   "id": "5cd98bd2",
   "metadata": {},
   "source": [
    "### CKDR"
   ]
  },
  {
   "cell_type": "markdown",
   "id": "ee4bec51",
   "metadata": {},
   "source": [
    "##### CKDR-3, 5\n",
    "Target dimension parameter $m$ is fixed to 3 and 5"
   ]
  },
  {
   "cell_type": "code",
   "execution_count": 5,
   "id": "0979cfbf",
   "metadata": {},
   "outputs": [
    {
     "name": "stdout",
     "output_type": "stream",
     "text": [
      "\n",
      "Target dimension: 3\n"
     ]
    },
    {
     "name": "stderr",
     "output_type": "stream",
     "text": [
      "[Parallel(n_jobs=60)]: Using backend LokyBackend with 60 concurrent workers.\n",
      "[Parallel(n_jobs=60)]: Done   2 out of 100 | elapsed: 15.2min remaining: 746.6min\n",
      "[Parallel(n_jobs=60)]: Done  23 out of 100 | elapsed: 23.1min remaining: 77.3min\n",
      "[Parallel(n_jobs=60)]: Done  44 out of 100 | elapsed: 25.3min remaining: 32.2min\n",
      "[Parallel(n_jobs=60)]: Done  65 out of 100 | elapsed: 32.4min remaining: 17.5min\n",
      "[Parallel(n_jobs=60)]: Done  86 out of 100 | elapsed: 39.3min remaining:  6.4min\n"
     ]
    },
    {
     "name": "stdout",
     "output_type": "stream",
     "text": [
      "Results of 100 repetitions of train/test split: 0.710357 ± 0.007757\n",
      "\n",
      "Target dimension: 5\n"
     ]
    },
    {
     "name": "stderr",
     "output_type": "stream",
     "text": [
      "[Parallel(n_jobs=60)]: Done 100 out of 100 | elapsed: 41.1min finished\n",
      "[Parallel(n_jobs=60)]: Using backend LokyBackend with 60 concurrent workers.\n",
      "[Parallel(n_jobs=60)]: Done   2 out of 100 | elapsed: 15.9min remaining: 776.7min\n",
      "[Parallel(n_jobs=60)]: Done  23 out of 100 | elapsed: 24.9min remaining: 83.5min\n",
      "[Parallel(n_jobs=60)]: Done  44 out of 100 | elapsed: 27.7min remaining: 35.2min\n",
      "[Parallel(n_jobs=60)]: Done  65 out of 100 | elapsed: 34.0min remaining: 18.3min\n",
      "[Parallel(n_jobs=60)]: Done  86 out of 100 | elapsed: 41.9min remaining:  6.8min\n"
     ]
    },
    {
     "name": "stdout",
     "output_type": "stream",
     "text": [
      "Results of 100 repetitions of train/test split: 0.721071 ± 0.007469\n"
     ]
    },
    {
     "name": "stderr",
     "output_type": "stream",
     "text": [
      "[Parallel(n_jobs=60)]: Done 100 out of 100 | elapsed: 44.6min finished\n"
     ]
    }
   ],
   "source": [
    "from functions import parallel_fit_train_test_split\n",
    "\n",
    "for target_dim in [3, 5]:\n",
    "    print(\"\\nTarget dimension:\", target_dim)\n",
    "    result = parallel_fit_train_test_split(x, y, type_Y=\"binary\", reps=100, n_jobs=60,\n",
    "                                           epsilon_list=[0.001, 0.01], dim_list=[target_dim],\n",
    "                                           sigma_list=np.geomspace(1/2, 2., 5),\n",
    "                                           save=\"ileum_dim{}\".format(target_dim), \n",
    "                                            seed=MASTER_SEED, verbose=False)"
   ]
  },
  {
   "cell_type": "markdown",
   "id": "1cb16e1b",
   "metadata": {},
   "source": [
    "##### CKDR\n",
    "Dimension grid {3, 4, 5, 6, 7} is included in the cross-validation"
   ]
  },
  {
   "cell_type": "code",
   "execution_count": 6,
   "id": "4ceefa4d",
   "metadata": {},
   "outputs": [
    {
     "name": "stderr",
     "output_type": "stream",
     "text": [
      "[Parallel(n_jobs=60)]: Using backend LokyBackend with 60 concurrent workers.\n",
      "[Parallel(n_jobs=60)]: Done   2 out of 100 | elapsed: 82.7min remaining: 4051.2min\n",
      "[Parallel(n_jobs=60)]: Done  23 out of 100 | elapsed: 113.7min remaining: 380.7min\n",
      "[Parallel(n_jobs=60)]: Done  44 out of 100 | elapsed: 134.0min remaining: 170.5min\n",
      "[Parallel(n_jobs=60)]: Done  65 out of 100 | elapsed: 168.6min remaining: 90.8min\n",
      "[Parallel(n_jobs=60)]: Done  86 out of 100 | elapsed: 203.3min remaining: 33.1min\n"
     ]
    },
    {
     "name": "stdout",
     "output_type": "stream",
     "text": [
      "Results of 100 repetitions of train/test split: 0.722857 ± 0.007528\n"
     ]
    },
    {
     "name": "stderr",
     "output_type": "stream",
     "text": [
      "[Parallel(n_jobs=60)]: Done 100 out of 100 | elapsed: 211.2min finished\n"
     ]
    }
   ],
   "source": [
    "result = parallel_fit_train_test_split(x, y, \"binary\", reps=100, n_jobs=60,\n",
    "                                           epsilon_list=[0.01, 0.001], dim_list=[3, 4, 5, 6, 7],\n",
    "                                           sigma_list=np.geomspace(1/2, 2., 5),\n",
    "                                           save=\"ileum_dim3-7\", verbose=False, seed=MASTER_SEED)"
   ]
  },
  {
   "cell_type": "markdown",
   "id": "aaa29e72",
   "metadata": {},
   "source": [
    "##### Load the saved results"
   ]
  },
  {
   "cell_type": "code",
   "execution_count": 6,
   "id": "654f136c",
   "metadata": {},
   "outputs": [],
   "source": [
    "with open(\"results/realdata-prediction/ileum_dim3.pkl\", \"rb\") as f:\n",
    "    result = pickle.load(f)\n",
    "results_df[\"CKDR-3\"] = np.array([res[0] for res in result])\n",
    "\n",
    "with open(\"results/realdata-prediction/ileum_dim5.pkl\", \"rb\") as f:\n",
    "    result = pickle.load(f)\n",
    "results_df[\"CKDR-5\"] = np.array([res[0] for res in result])\n",
    "\n",
    "with open(\"results/realdata-prediction/ileum_dim3-7.pkl\", \"rb\") as f:\n",
    "    result = pickle.load(f)\n",
    "results_df[\"CKDR\"] = np.array([res[0] for res in result])"
   ]
  },
  {
   "cell_type": "markdown",
   "id": "5916ae14",
   "metadata": {},
   "source": [
    "### LC-Lasso\n",
    "For classification, LC-Lasso implements $\\ell_1$-constrained GLM with the zero-sum constraint on the log-transformed compositional data (zeros must be replaced a priori).\n",
    "- Implementation code is downloaded from: https://github.com/malucalle/CoDA-Penalized-Regression\n",
    "- Paper: Lu et al. (2019) [\"Generalized Linear Models With Linear Constraints for Microbiome Compositional Data\"](https://academic.oup.com/biometrics/article/75/1/235/7517229)"
   ]
  },
  {
   "cell_type": "code",
   "execution_count": null,
   "id": "0c38d987",
   "metadata": {},
   "outputs": [],
   "source": [
    "from reproducibility.prediction_comparison import codalasso_clf\n",
    "\n",
    "# pd.DataFrame-based processing\n",
    "counts_5min = counts2.copy()\n",
    "for i in range(counts_5min.shape[1]):\n",
    "    col = counts_5min.iloc[:, i]\n",
    "    min_nonzero = col[col > 0].min()\n",
    "    counts_5min.iloc[:, i] = col.where(col > 0, min_nonzero * 0.5)\n",
    "counts_5min = counts_5min.T\n",
    "\n",
    "# LC-Lasso (1min with 100 cores)\n",
    "result = codalasso_clf(counts_5min, pd.Series(y), cvfolds=5, reps=100,\n",
    "                       lamseq=np.geomspace(0.001, 1, 30), \n",
    "                       njobs=100, seed=MASTER_SEED)\n",
    "results_df[\"LC-Lasso\"] = result"
   ]
  },
  {
   "cell_type": "markdown",
   "id": "143355b3",
   "metadata": {},
   "source": [
    "### clr-Kernel (SVM)\n",
    "Uses `sklearn.svm.SVC` for SVM fit.  \n",
    "See the `clr_svm` function in the `prediction_comparison.py` file for details"
   ]
  },
  {
   "cell_type": "code",
   "execution_count": 8,
   "id": "1ab39a28",
   "metadata": {},
   "outputs": [
    {
     "name": "stdout",
     "output_type": "stream",
     "text": [
      "Mean accuracy: 0.7167857142857141 Std accuracy: 0.06353831400768181\n"
     ]
    }
   ],
   "source": [
    "from reproducibility.prediction_comparison import clr_svm\n",
    "\n",
    "acc = clr_svm(x2, y2, reps=100, seed=MASTER_SEED)\n",
    "results_df[\"clr-Kernel (SVM)\"] = acc"
   ]
  },
  {
   "cell_type": "markdown",
   "id": "2a45478e",
   "metadata": {},
   "source": [
    "### clr-RF\n",
    "Uses `sklearn.ensemble.RandomForestClassifier`.  \n",
    "See the `clr_rf_clf` function in the `prediction_comparison.py` file for details"
   ]
  },
  {
   "cell_type": "code",
   "execution_count": 9,
   "id": "2d9748d1",
   "metadata": {},
   "outputs": [
    {
     "name": "stdout",
     "output_type": "stream",
     "text": [
      "Mean accuracy: 0.655 Std accuracy: 0.08809491634432878\n"
     ]
    }
   ],
   "source": [
    "from reproducibility.prediction_comparison import clr_rf_clf\n",
    "\n",
    "acc = clr_rf_clf(x2, y2, reps=100, seed=MASTER_SEED)\n",
    "results_df[\"clr-RF\"] = acc"
   ]
  },
  {
   "cell_type": "markdown",
   "id": "cdc9433e",
   "metadata": {},
   "source": [
    "### Save the results"
   ]
  },
  {
   "cell_type": "code",
   "execution_count": 10,
   "id": "a5af10e4",
   "metadata": {},
   "outputs": [],
   "source": [
    "# to csv\n",
    "results_df.to_csv(\"results/realdata-prediction/ileum_results.csv\", index=False)"
   ]
  },
  {
   "cell_type": "markdown",
   "id": "24fb945e",
   "metadata": {},
   "source": [
    "### Final result"
   ]
  },
  {
   "cell_type": "code",
   "execution_count": 12,
   "id": "365bfbbc",
   "metadata": {},
   "outputs": [
    {
     "data": {
      "text/html": [
       "<div>\n",
       "<style scoped>\n",
       "    .dataframe tbody tr th:only-of-type {\n",
       "        vertical-align: middle;\n",
       "    }\n",
       "\n",
       "    .dataframe tbody tr th {\n",
       "        vertical-align: top;\n",
       "    }\n",
       "\n",
       "    .dataframe thead th {\n",
       "        text-align: right;\n",
       "    }\n",
       "</style>\n",
       "<table border=\"1\" class=\"dataframe\">\n",
       "  <thead>\n",
       "    <tr style=\"text-align: right;\">\n",
       "      <th></th>\n",
       "      <th>CKDR-3</th>\n",
       "      <th>CKDR-5</th>\n",
       "      <th>CKDR</th>\n",
       "      <th>LC-Lasso</th>\n",
       "      <th>clr-Kernel (SVM)</th>\n",
       "      <th>clr-RF</th>\n",
       "    </tr>\n",
       "  </thead>\n",
       "  <tbody>\n",
       "    <tr>\n",
       "      <th>0</th>\n",
       "      <td>29.0 (0.8)</td>\n",
       "      <td>27.9 (0.8)</td>\n",
       "      <td>27.7 (0.8)</td>\n",
       "      <td>28.5 (0.7)</td>\n",
       "      <td>28.3 (0.6)</td>\n",
       "      <td>34.5 (0.9)</td>\n",
       "    </tr>\n",
       "  </tbody>\n",
       "</table>\n",
       "</div>"
      ],
      "text/plain": [
       "       CKDR-3      CKDR-5        CKDR    LC-Lasso clr-Kernel (SVM)      clr-RF\n",
       "0  29.0 (0.8)  27.9 (0.8)  27.7 (0.8)  28.5 (0.7)       28.3 (0.6)  34.5 (0.9)"
      ]
     },
     "execution_count": 12,
     "metadata": {},
     "output_type": "execute_result"
    }
   ],
   "source": [
    "# Load the results from the CSV file\n",
    "results_df = pd.read_csv(\"results/realdata-prediction/ileum_results.csv\")\n",
    "\n",
    "# Translate to the misclassification rate\n",
    "results_df = 1 - results_df\n",
    "\n",
    "# Calculate mean and standard error for each column\n",
    "results_df *= 100\n",
    "means = results_df.mean()\n",
    "ses = results_df.std() / np.sqrt(len(results_df))\n",
    "\n",
    "# Create formatted strings with mean (se) up to 3 decimal places\n",
    "formatted_results = []\n",
    "for col in results_df.columns:\n",
    "    formatted_str = f\"{means[col]:.1f} ({ses[col]:.1f})\"\n",
    "    formatted_results.append(formatted_str)\n",
    "\n",
    "# Create new dataframe with same columns but single row containing formatted strings\n",
    "summary_df = pd.DataFrame([formatted_results], columns=results_df.columns)\n",
    "summary_df"
   ]
  },
  {
   "cell_type": "code",
   "execution_count": 26,
   "id": "46084c81",
   "metadata": {},
   "outputs": [
    {
     "name": "stdout",
     "output_type": "stream",
     "text": [
      "T-test for CKDR-3 vs CKDR-5: t-statistic = 0.9900, p-value = 0.3234\n",
      "T-test for CKDR-3 vs CKDR: t-statistic = 1.1506, p-value = 0.2513\n",
      "T-test for CKDR-3 vs LC-Lasso: t-statistic = 0.4694, p-value = 0.6393\n",
      "T-test for CKDR-3 vs clr-Kernel (SVM): t-statistic = 0.6379, p-value = 0.5243\n",
      "T-test for CKDR-3 vs clr-RF: t-statistic = -4.6924, p-value = 0.0000\n"
     ]
    }
   ],
   "source": [
    "# t-test for significance\n",
    "from scipy.stats import ttest_ind\n",
    "for col in results_df.columns:\n",
    "    if col != \"CKDR-3\":\n",
    "        t_stat, p_val = ttest_ind(results_df[\"CKDR-3\"], results_df[col], equal_var=False)\n",
    "        print(f\"T-test for CKDR-3 vs {col}: t-statistic = {t_stat:.4f}, p-value = {p_val:.4f}\")"
   ]
  },
  {
   "cell_type": "markdown",
   "id": "bc7bda27",
   "metadata": {},
   "source": [
    "# Vaginal microbiome data"
   ]
  },
  {
   "cell_type": "code",
   "execution_count": 14,
   "id": "d2479d3b",
   "metadata": {},
   "outputs": [
    {
     "name": "stdout",
     "output_type": "stream",
     "text": [
      "Zero ratio: 0.9146917910766993\n",
      "Data shape (388, 241)  with Y ranges 0 to 10\n"
     ]
    }
   ],
   "source": [
    "name = \"ravel\"\n",
    "counts = pd.read_csv(directory + name + x_dir, sep='\\t')\n",
    "\n",
    "Y= pd.read_csv(directory + name + y_dir + y_names[name] + \".txt\", sep='\\t')\n",
    "\n",
    "counts2 = counts[Y[\"#SampleID\"]]\n",
    "\n",
    "# Delete taxa present in less than 5 samples\n",
    "taxa = counts[\"#OTU ID\"][(counts2 > 0).sum(1) >= 5]\n",
    "counts2 = counts2[(counts2 > 0).sum(1) >= 5]\n",
    "\n",
    "X = counts2.to_numpy().T\n",
    "Y = Y[\"Var\"].to_numpy().flatten()\n",
    "\n",
    "# Normalize\n",
    "X = X / X.sum(1)[:, None]\n",
    "\n",
    "print(\"Zero ratio:\", np.sum(X == 0) / X.size)\n",
    "print(\"Data shape\", X.shape, \" with Y ranges\", Y.min(), \"to\", Y.max())"
   ]
  },
  {
   "cell_type": "code",
   "execution_count": 15,
   "id": "8c8b21e5",
   "metadata": {},
   "outputs": [],
   "source": [
    "# Zero replacement and integer conversion of the response (for stratification)\n",
    "# This is necessary for all regression methods\n",
    "X2 = counts2.T.to_numpy().astype(np.float64)\n",
    "# Y2 = Y.astype(int)\n",
    "for i in range(X2.shape[0]):\n",
    "    X2[i] = np.where(X2[i] == 0, X2[i][X2[i] > 0].min() * 0.5, X2[i])"
   ]
  },
  {
   "cell_type": "code",
   "execution_count": 16,
   "id": "dc6448ac",
   "metadata": {},
   "outputs": [],
   "source": [
    "results_df2 = pd.DataFrame(columns=[\"CKDR-3\", \"CKDR-5\", \"CKDR\", \"LC-Lasso\", \"clr-Kernel (KRR)\", \"clr-RF\", \"RS-ES\"])"
   ]
  },
  {
   "cell_type": "markdown",
   "id": "6854f71a",
   "metadata": {},
   "source": [
    "### CKDR"
   ]
  },
  {
   "cell_type": "markdown",
   "id": "6ad54fc0",
   "metadata": {},
   "source": [
    "##### CKDR-3, 5\n",
    "Target dimension parameter $m$ is fixed to 3 and 5"
   ]
  },
  {
   "cell_type": "code",
   "execution_count": 16,
   "id": "44c9c6e7",
   "metadata": {},
   "outputs": [
    {
     "name": "stdout",
     "output_type": "stream",
     "text": [
      "\n",
      "Target dimension: 3\n"
     ]
    },
    {
     "name": "stderr",
     "output_type": "stream",
     "text": [
      "[Parallel(n_jobs=60)]: Using backend LokyBackend with 60 concurrent workers.\n",
      "[Parallel(n_jobs=60)]: Done   2 out of 100 | elapsed: 62.5min remaining: 3064.9min\n",
      "[Parallel(n_jobs=60)]: Done  23 out of 100 | elapsed: 89.2min remaining: 298.8min\n",
      "[Parallel(n_jobs=60)]: Done  44 out of 100 | elapsed: 103.8min remaining: 132.1min\n",
      "[Parallel(n_jobs=60)]: Done  65 out of 100 | elapsed: 127.5min remaining: 68.7min\n",
      "[Parallel(n_jobs=60)]: Done  86 out of 100 | elapsed: 146.3min remaining: 23.8min\n",
      "[Parallel(n_jobs=60)]: Done 100 out of 100 | elapsed: 152.1min finished\n"
     ]
    },
    {
     "name": "stdout",
     "output_type": "stream",
     "text": [
      "Results of 100 repetitions of train/test split: 3.392202 ± 0.086100\n",
      "\n",
      "Target dimension: 5\n"
     ]
    },
    {
     "name": "stderr",
     "output_type": "stream",
     "text": [
      "[Parallel(n_jobs=60)]: Using backend LokyBackend with 60 concurrent workers.\n",
      "[Parallel(n_jobs=60)]: Done   2 out of 100 | elapsed: 59.4min remaining: 2908.7min\n",
      "[Parallel(n_jobs=60)]: Done  23 out of 100 | elapsed: 89.2min remaining: 298.5min\n",
      "[Parallel(n_jobs=60)]: Done  44 out of 100 | elapsed: 100.5min remaining: 127.9min\n",
      "[Parallel(n_jobs=60)]: Done  65 out of 100 | elapsed: 120.9min remaining: 65.1min\n",
      "[Parallel(n_jobs=60)]: Done  86 out of 100 | elapsed: 142.0min remaining: 23.1min\n",
      "[Parallel(n_jobs=60)]: Done 100 out of 100 | elapsed: 148.0min finished\n"
     ]
    },
    {
     "name": "stdout",
     "output_type": "stream",
     "text": [
      "Results of 100 repetitions of train/test split: 3.367202 ± 0.085657\n"
     ]
    }
   ],
   "source": [
    "from functions import parallel_fit_train_test_split\n",
    "\n",
    "for target_dim in [3, 5]:\n",
    "    print(\"\\nTarget dimension:\", target_dim)\n",
    "    result = parallel_fit_train_test_split(X, Y, type_Y=None, reps=100, n_jobs=60,\n",
    "                                           epsilon_list=[0.01, 0.001], dim_list=[target_dim],\n",
    "                                           sigma_list=np.geomspace(1/2, 2., 5),\n",
    "                                           save=\"vaginal_dim{}\".format(target_dim), verbose=False, \n",
    "                                           seed=MASTER_SEED)"
   ]
  },
  {
   "cell_type": "markdown",
   "id": "55d07377",
   "metadata": {},
   "source": [
    "##### CKDR\n",
    "Dimension grid {3, 4, 5, 6, 7} is included in the cross-validation"
   ]
  },
  {
   "cell_type": "code",
   "execution_count": 17,
   "id": "66a5a538",
   "metadata": {},
   "outputs": [
    {
     "name": "stderr",
     "output_type": "stream",
     "text": [
      "[Parallel(n_jobs=60)]: Using backend LokyBackend with 60 concurrent workers.\n",
      "[Parallel(n_jobs=60)]: Done   2 out of 100 | elapsed: 283.1min remaining: 13871.5min\n",
      "[Parallel(n_jobs=60)]: Done  23 out of 100 | elapsed: 414.0min remaining: 1386.0min\n",
      "[Parallel(n_jobs=60)]: Done  44 out of 100 | elapsed: 463.4min remaining: 589.8min\n",
      "[Parallel(n_jobs=60)]: Done  65 out of 100 | elapsed: 597.7min remaining: 321.9min\n",
      "[Parallel(n_jobs=60)]: Done  86 out of 100 | elapsed: 679.9min remaining: 110.7min\n",
      "[Parallel(n_jobs=60)]: Done 100 out of 100 | elapsed: 698.0min finished\n"
     ]
    },
    {
     "name": "stdout",
     "output_type": "stream",
     "text": [
      "Results of 100 repetitions of train/test split: 3.411310 ± 0.083639\n"
     ]
    }
   ],
   "source": [
    "result = parallel_fit_train_test_split(X, Y, type_Y=None, reps=100, n_jobs=60,\n",
    "                                       epsilon_list=[0.01, 0.001], dim_list=[3, 4, 5, 6, 7],\n",
    "                                       sigma_list=np.geomspace(1/2, 2., 5),\n",
    "                                       save=\"vaginal_dim3-7\", verbose=False, seed=MASTER_SEED)"
   ]
  },
  {
   "cell_type": "code",
   "execution_count": 17,
   "id": "e7298863",
   "metadata": {},
   "outputs": [],
   "source": [
    "with open(\"results/realdata-prediction/vaginal_dim3.pkl\", \"rb\") as f:\n",
    "    result = pickle.load(f)\n",
    "results_df2[\"CKDR-3\"] = np.array([res[0] for res in result])\n",
    "\n",
    "with open(\"results/realdata-prediction/vaginal_dim5.pkl\", \"rb\") as f:\n",
    "    result = pickle.load(f)\n",
    "results_df2[\"CKDR-5\"] = np.array([res[0] for res in result])\n",
    "\n",
    "with open(\"results/realdata-prediction/vaginal_dim3-7.pkl\", \"rb\") as f:\n",
    "    result = pickle.load(f)\n",
    "results_df2[\"CKDR\"] = np.array([res[0] for res in result])"
   ]
  },
  {
   "cell_type": "markdown",
   "id": "4e42cad1",
   "metadata": {},
   "source": [
    "### LC-Lasso\n",
    "Implements the log-contrast $\\ell_1$-constrained linear regression\n",
    "- Implementation uses the `c-lasso` library: https://github.com/Leo-Simpson/c-lasso/tree/master\n",
    "    - You can install it with `pip install c-lasso`.\n",
    "- Paper: Lin et al. (2014) [\"Variable selection in regression with compositional covariates\"](https://academic.oup.com/biomet/article-lookup/doi/10.1093/biomet/asu031)"
   ]
  },
  {
   "cell_type": "code",
   "execution_count": 18,
   "id": "61b52757",
   "metadata": {},
   "outputs": [
    {
     "name": "stderr",
     "output_type": "stream",
     "text": [
      "[Parallel(n_jobs=100)]: Using backend LokyBackend with 100 concurrent workers.\n",
      "[Parallel(n_jobs=100)]: Done   6 out of 100 | elapsed:  1.2min remaining: 19.1min\n",
      "[Parallel(n_jobs=100)]: Done  27 out of 100 | elapsed:  2.1min remaining:  5.6min\n",
      "[Parallel(n_jobs=100)]: Done  48 out of 100 | elapsed:  2.3min remaining:  2.5min\n",
      "[Parallel(n_jobs=100)]: Done  69 out of 100 | elapsed:  2.4min remaining:  1.1min\n",
      "[Parallel(n_jobs=100)]: Done  90 out of 100 | elapsed:  2.6min remaining:   17.0s\n"
     ]
    },
    {
     "name": "stdout",
     "output_type": "stream",
     "text": [
      "Estimated MSE with 100 reps: 3.7645910451964353 +/- 0.6204880350561086\n"
     ]
    },
    {
     "name": "stderr",
     "output_type": "stream",
     "text": [
      "[Parallel(n_jobs=100)]: Done 100 out of 100 | elapsed:  2.9min finished\n"
     ]
    }
   ],
   "source": [
    "from reproducibility.prediction_comparison import codalasso_reg\n",
    "\n",
    "# Around 2 minutes with 100 cores\n",
    "result, _ = codalasso_reg(X2, Y, cvfolds=5, reps=100, \n",
    "                       lamseq=np.geomspace(0.001, 1, 30), \n",
    "                       njobs=100, seed=MASTER_SEED)\n",
    "results_df2[\"LC-Lasso\"] = result"
   ]
  },
  {
   "cell_type": "markdown",
   "id": "f2f6deb6",
   "metadata": {},
   "source": [
    "### clr-Kernel (KRR)\n",
    "Uses `sklearn.kernel_ridge.KernelRidge` for KRR fit.   \n",
    "See the `clr_krr` function in the `prediction_comparison.py` file for details"
   ]
  },
  {
   "cell_type": "code",
   "execution_count": 19,
   "id": "44f2d86a",
   "metadata": {},
   "outputs": [
    {
     "name": "stdout",
     "output_type": "stream",
     "text": [
      "Mean MSE: 3.4956057535441043 Std MSE: 0.6363201367562784\n"
     ]
    }
   ],
   "source": [
    "from reproducibility.prediction_comparison import clr_krr\n",
    "\n",
    "mses = clr_krr(X2, Y, reps=100, seed=MASTER_SEED)\n",
    "results_df2[\"clr-Kernel (KRR)\"] = mses"
   ]
  },
  {
   "cell_type": "markdown",
   "id": "79212a22",
   "metadata": {},
   "source": [
    "### clr-RF\n",
    "Uses `sklearn.ensemble.RandomForestRegressor`.  \n",
    "See the `clr_rf_reg` function in the `prediction_comparison.py` file for details"
   ]
  },
  {
   "cell_type": "code",
   "execution_count": 20,
   "id": "57f433b6",
   "metadata": {},
   "outputs": [
    {
     "name": "stdout",
     "output_type": "stream",
     "text": [
      "Mean MSE: 3.3096408589743596 Std MSE: 0.6902166938228487\n"
     ]
    }
   ],
   "source": [
    "from reproducibility.prediction_comparison import clr_rf_reg\n",
    "\n",
    "mses = clr_rf_reg(X2, Y, reps=100, seed=MASTER_SEED)\n",
    "results_df2[\"clr-RF\"] = mses"
   ]
  },
  {
   "cell_type": "markdown",
   "id": "3ea6b1c9",
   "metadata": {},
   "source": [
    "### RS-ES\n",
    "Load the matlab-run result  \n",
    "Implements the relative-shift regression method with equi-sparsity penalty:  \n",
    "- Li et al. (2023) [It's all relative: Regression analysis with compositional predictors](https://onlinelibrary.wiley.com/doi/full/10.1111/biom.13703)"
   ]
  },
  {
   "cell_type": "code",
   "execution_count": 21,
   "id": "eb5c5a36",
   "metadata": {},
   "outputs": [
    {
     "name": "stdout",
     "output_type": "stream",
     "text": [
      "Mean MSE with 100 reps: 4.200485580104152 Std error: 0.08725148989107033\n"
     ]
    }
   ],
   "source": [
    "from scipy.io import loadmat\n",
    "\n",
    "result = loadmat(\"./reproducibility/other_methods/Relative-shift/JP_realdata_100reps.mat\")[\"result_test20\"].ravel()\n",
    "print(\"Mean MSE with 100 reps:\", result.mean(), \"Std error:\", result.std() / np.sqrt(100))\n",
    "results_df2[\"RS-ES\"] = result"
   ]
  },
  {
   "cell_type": "markdown",
   "id": "24165be0",
   "metadata": {},
   "source": [
    "### Save the results"
   ]
  },
  {
   "cell_type": "code",
   "execution_count": 22,
   "id": "7924ef0e",
   "metadata": {},
   "outputs": [],
   "source": [
    "# to csv\n",
    "results_df2.to_csv(\"results/realdata-prediction/vaginal_results.csv\", index=False)"
   ]
  },
  {
   "cell_type": "markdown",
   "id": "15e3a349",
   "metadata": {},
   "source": [
    "### Final result"
   ]
  },
  {
   "cell_type": "code",
   "execution_count": 23,
   "id": "97c0bdcf",
   "metadata": {},
   "outputs": [
    {
     "data": {
      "text/html": [
       "<div>\n",
       "<style scoped>\n",
       "    .dataframe tbody tr th:only-of-type {\n",
       "        vertical-align: middle;\n",
       "    }\n",
       "\n",
       "    .dataframe tbody tr th {\n",
       "        vertical-align: top;\n",
       "    }\n",
       "\n",
       "    .dataframe thead th {\n",
       "        text-align: right;\n",
       "    }\n",
       "</style>\n",
       "<table border=\"1\" class=\"dataframe\">\n",
       "  <thead>\n",
       "    <tr style=\"text-align: right;\">\n",
       "      <th></th>\n",
       "      <th>CKDR-3</th>\n",
       "      <th>CKDR-5</th>\n",
       "      <th>CKDR</th>\n",
       "      <th>LC-Lasso</th>\n",
       "      <th>clr-Kernel (KRR)</th>\n",
       "      <th>clr-RF</th>\n",
       "      <th>RS-ES</th>\n",
       "    </tr>\n",
       "  </thead>\n",
       "  <tbody>\n",
       "    <tr>\n",
       "      <th>0</th>\n",
       "      <td>3.39 (0.09)</td>\n",
       "      <td>3.37 (0.09)</td>\n",
       "      <td>3.41 (0.08)</td>\n",
       "      <td>3.76 (0.06)</td>\n",
       "      <td>3.50 (0.06)</td>\n",
       "      <td>3.31 (0.07)</td>\n",
       "      <td>4.20 (0.09)</td>\n",
       "    </tr>\n",
       "  </tbody>\n",
       "</table>\n",
       "</div>"
      ],
      "text/plain": [
       "        CKDR-3       CKDR-5         CKDR     LC-Lasso clr-Kernel (KRR)  \\\n",
       "0  3.39 (0.09)  3.37 (0.09)  3.41 (0.08)  3.76 (0.06)      3.50 (0.06)   \n",
       "\n",
       "        clr-RF        RS-ES  \n",
       "0  3.31 (0.07)  4.20 (0.09)  "
      ]
     },
     "execution_count": 23,
     "metadata": {},
     "output_type": "execute_result"
    }
   ],
   "source": [
    "# Load the results from the CSV file\n",
    "results_df2 = pd.read_csv(\"results/realdata-prediction/vaginal_results.csv\")\n",
    "\n",
    "means = results_df2.mean()\n",
    "ses = results_df2.std() / np.sqrt(len(results_df2))\n",
    "\n",
    "# Create formatted strings with mean (se) up to 3 decimal places\n",
    "formatted_results = []\n",
    "for col in results_df2.columns:\n",
    "    formatted_str = f\"{means[col]:.2f} ({ses[col]:.2f})\"\n",
    "    formatted_results.append(formatted_str)\n",
    "\n",
    "# Create new dataframe with same columns but single row containing formatted strings\n",
    "summary_df2 = pd.DataFrame([formatted_results], columns=results_df2.columns)\n",
    "summary_df2"
   ]
  },
  {
   "cell_type": "code",
   "execution_count": 25,
   "id": "068629fb",
   "metadata": {},
   "outputs": [
    {
     "name": "stdout",
     "output_type": "stream",
     "text": [
      "T-test for CKDR-3 vs CKDR-5: t-statistic = 0.2048, p-value = 0.8379\n",
      "T-test for CKDR-3 vs CKDR: t-statistic = -0.1584, p-value = 0.8743\n",
      "T-test for CKDR-3 vs LC-Lasso: t-statistic = -3.4913, p-value = 0.0006\n",
      "T-test for CKDR-3 vs clr-Kernel (KRR): t-statistic = -0.9610, p-value = 0.3378\n",
      "T-test for CKDR-3 vs clr-RF: t-statistic = 0.7444, p-value = 0.4575\n",
      "T-test for CKDR-3 vs RS-ES: t-statistic = -6.5608, p-value = 0.0000\n"
     ]
    }
   ],
   "source": [
    "# t-test for significance\n",
    "from scipy.stats import ttest_ind\n",
    "for col in results_df2.columns:\n",
    "    if col != \"CKDR-3\":\n",
    "        t_stat, p_val = ttest_ind(results_df2[\"CKDR-3\"], results_df2[col], equal_var=False)\n",
    "        print(f\"T-test for CKDR-3 vs {col}: t-statistic = {t_stat:.4f}, p-value = {p_val:.4f}\")"
   ]
  }
 ],
 "metadata": {
  "kernelspec": {
   "display_name": "DimRed",
   "language": "python",
   "name": "python3"
  },
  "language_info": {
   "codemirror_mode": {
    "name": "ipython",
    "version": 3
   },
   "file_extension": ".py",
   "mimetype": "text/x-python",
   "name": "python",
   "nbconvert_exporter": "python",
   "pygments_lexer": "ipython3",
   "version": "3.11.8"
  }
 },
 "nbformat": 4,
 "nbformat_minor": 5
}
